{
 "cells": [
  {
   "cell_type": "code",
   "execution_count": 2,
   "metadata": {},
   "outputs": [
    {
     "data": {
      "application/javascript": [
       "IPython.notebook.set_autosave_interval(30000)"
      ]
     },
     "metadata": {},
     "output_type": "display_data"
    },
    {
     "name": "stdout",
     "output_type": "stream",
     "text": [
      "Autosaving every 30 seconds\n"
     ]
    }
   ],
   "source": [
    "%autosave 30"
   ]
  },
  {
   "cell_type": "markdown",
   "metadata": {},
   "source": [
    "<a id='0'></a>\n",
    "### 　　目　录\n",
    "* [课程1.基础](#1)\n",
    "\n",
    "\n",
    "\n",
    "* [课程2： 深度神经网络](#2)　　\n",
    "　\n",
    " \n",
    " \n",
    "* [课程 3：卷积神经网络](#3)　　\n",
    "\n",
    "\n",
    " \n",
    "* [课程 4：癌症检测深度学习（Sebastian Thrun）](#4)\n",
    "\n",
    "\n",
    "\n",
    "\n",
    "* [Week 6：组合数据类型](#6)\n",
    "\n",
    "\n",
    "\n",
    "* [Week 8：程序设计方法](#8)\n",
    "\n",
    "\n",
    "\n",
    "* [Week 9 Python计算生态概览](#9)"
   ]
  },
  {
   "cell_type": "code",
   "execution_count": 3,
   "metadata": {
    "scrolled": true
   },
   "outputs": [
    {
     "name": "stdout",
     "output_type": "stream",
     "text": [
      "133.5\n",
      "<class 'float'>\n",
      "<class 'str'>\n",
      "<class 'int'>\n"
     ]
    }
   ],
   "source": [
    "float_test = 133.5\n",
    "str_test = '2'\n",
    "int_test = 2\n",
    "print(float_test)\n",
    "print(type(float_test))\n",
    "print(type(str_test))\n",
    "print(type(int_test))\n",
    "\n"
   ]
  },
  {
   "cell_type": "markdown",
   "metadata": {},
   "source": [
    "**类型转换**"
   ]
  },
  {
   "cell_type": "code",
   "execution_count": 5,
   "metadata": {
    "collapsed": true
   },
   "outputs": [
    {
     "ename": "ValueError",
     "evalue": "invalid literal for int() with base 10: 't'",
     "output_type": "error",
     "traceback": [
      "\u001b[1;31m---------------------------------------------------------------------------\u001b[0m",
      "\u001b[1;31mValueError\u001b[0m                                Traceback (most recent call last)",
      "\u001b[1;32m<ipython-input-5-86e83e6fb716>\u001b[0m in \u001b[0;36m<module>\u001b[1;34m()\u001b[0m\n\u001b[0;32m      2\u001b[0m \u001b[1;33m\u001b[0m\u001b[0m\n\u001b[0;32m      3\u001b[0m \u001b[0mstr_eight\u001b[0m \u001b[1;33m=\u001b[0m \u001b[1;34m't'\u001b[0m\u001b[1;33m\u001b[0m\u001b[0m\n\u001b[1;32m----> 4\u001b[1;33m \u001b[0mstr_to_int\u001b[0m \u001b[1;33m=\u001b[0m \u001b[0mint\u001b[0m\u001b[1;33m(\u001b[0m\u001b[0mstr_eight\u001b[0m\u001b[1;33m)\u001b[0m\u001b[1;33m\u001b[0m\u001b[0m\n\u001b[0m\u001b[0;32m      5\u001b[0m \u001b[0mprint\u001b[0m\u001b[1;33m(\u001b[0m\u001b[0mtype\u001b[0m\u001b[1;33m(\u001b[0m\u001b[0mstr_to_int\u001b[0m\u001b[1;33m)\u001b[0m\u001b[1;33m)\u001b[0m\u001b[1;33m\u001b[0m\u001b[0m\n",
      "\u001b[1;31mValueError\u001b[0m: invalid literal for int() with base 10: 't'"
     ]
    }
   ],
   "source": [
    "str_eight = str(8)\n",
    "\n",
    "str_eight = '8'\n",
    "str_to_int = int(str_eight)\n",
    "print(type(str_to_int))"
   ]
  },
  {
   "cell_type": "code",
   "execution_count": 7,
   "metadata": {},
   "outputs": [
    {
     "name": "stdout",
     "output_type": "stream",
     "text": [
      "['2']\n"
     ]
    }
   ],
   "source": [
    "# LIST\n",
    "list = []\n",
    "list.append('2')\n",
    "print(list)\n",
    "\n",
    "\n",
    "\n",
    "# LIST 索引\n",
    "# 取头不取尾\n",
    "list_value = list[]"
   ]
  },
  {
   "cell_type": "markdown",
   "metadata": {},
   "source": [
    "**循环**"
   ]
  },
  {
   "cell_type": "code",
   "execution_count": 10,
   "metadata": {
    "collapsed": true
   },
   "outputs": [
    {
     "name": "stdout",
     "output_type": "stream",
     "text": [
      "cd\n",
      "qq\n",
      "bj\n",
      "ny\n",
      "londun\n",
      "bali\n"
     ]
    }
   ],
   "source": [
    "cities =[ ['cd','qq','bj'],['ny','londun','bali']]\n",
    "for citys in cities:\n",
    "    for city in citys:\n",
    "         print(city)"
   ]
  },
  {
   "cell_type": "markdown",
   "metadata": {},
   "source": [
    "**判断**"
   ]
  },
  {
   "cell_type": "code",
   "execution_count": 17,
   "metadata": {
    "collapsed": true
   },
   "outputs": [
    {
     "name": "stdout",
     "output_type": "stream",
     "text": [
      "True\n",
      "True\n"
     ]
    }
   ],
   "source": [
    "print(8!=10)\n",
    "print(9>=1)"
   ]
  },
  {
   "cell_type": "markdown",
   "metadata": {},
   "source": [
    "**字典**"
   ]
  },
  {
   "cell_type": "code",
   "execution_count": 33,
   "metadata": {},
   "outputs": [
    {
     "name": "stdout",
     "output_type": "stream",
     "text": [
      "<class 'dict'>\n",
      "dict_keys([])\n",
      "{'a': 33, 'b': 33, 'jim': 80, 'hekuang': 11, 'anli': 1}\n",
      "{'a': 33, 'b': 33, 'jim': 80, 'hekuang': 3233, 'anli': 1}\n",
      "80\n"
     ]
    }
   ],
   "source": [
    "scores = {}\n",
    "\n",
    "print(type(scores))\n",
    "print(scores.keys())\n",
    "\n",
    "\n",
    "scores = {\"a\":33, \"b\":33}\n",
    "scores['jim'] = 80\n",
    "scores[\"hekuang\"] = 11\n",
    "scores[\"anli\"] = 1\n",
    "print(scores)\n",
    "scores[\"hekuang\"] = 3233\n",
    "print(scores)\n",
    "print(scores['jim'])"
   ]
  },
  {
   "cell_type": "code",
   "execution_count": 34,
   "metadata": {},
   "outputs": [
    {
     "name": "stdout",
     "output_type": "stream",
     "text": [
      "{'apple': 2, 'orange': 1, 'tomato': 2}\n"
     ]
    }
   ],
   "source": [
    "fruit = ['apple','orange','tomato','apple','tomato']\n",
    "fruit_counts = {}\n",
    "for item in fruit:\n",
    "    if item in fruit_counts:\n",
    "        fruit_counts[item]+=1\n",
    "    else:\n",
    "        fruit_counts[item] =1\n",
    "print (fruit_counts)"
   ]
  },
  {
   "cell_type": "markdown",
   "metadata": {},
   "source": [
    "**文件处理**"
   ]
  },
  {
   "cell_type": "code",
   "execution_count": 37,
   "metadata": {},
   "outputs": [
    {
     "name": "stdout",
     "output_type": "stream",
     "text": [
      "{\"name\":\"zhangsan\", \"age\":30}\n",
      "{\"name\":\"Michael\"}\n",
      "{\"name\":\"Andy\", \"age\":30}\n",
      "{\"name\":\"Justin\", \"age\":19}\n",
      "\n"
     ]
    }
   ],
   "source": [
    "f = open(\"D:/Data/people.json\",\"r\")\n",
    "g = f.read()\n",
    "print(g)\n",
    "f.close()"
   ]
  },
  {
   "cell_type": "markdown",
   "metadata": {},
   "source": [
    "<a id ='6'></a>\n",
    "# [Week 6 组合数据类型](#0)"
   ]
  },
  {
   "cell_type": "markdown",
   "metadata": {},
   "source": []
  },
  {
   "cell_type": "markdown",
   "metadata": {},
   "source": [
    "<a id ='8'></a>\n",
    "# [Week 8：程序设计方法](#0)"
   ]
  },
  {
   "attachments": {},
   "cell_type": "markdown",
   "metadata": {},
   "source": [
    "### 自顶向下（设计）\n",
    "- 复杂问题分解\n",
    " \n",
    "### 自顶向上（执行）"
   ]
  },
  {
   "cell_type": "code",
   "execution_count": 15,
   "metadata": {},
   "outputs": [
    {
     "name": "stdout",
     "output_type": "stream",
     "text": [
      "体育竞技分析\n",
      "根据输入球员的能力，分析n次模拟比赛的结果\n",
      "请输入选手A的能力值（0-1):0.4\n",
      "请输入选手B的能力值(0-1):0.4\n",
      "模拟比赛的场次：400\n",
      "竞技分析开始，总共模拟量400场比赛\n",
      "选手A获胜213场比赛，占比53.2%\n",
      "选手B获胜187场比赛，占比46.8%\n"
     ]
    }
   ],
   "source": [
    "# 体育分析代码\n",
    "\n",
    "from random import random\n",
    "# 第一步打印介绍信息\n",
    "def printInfo():\n",
    "    print(\"体育竞技分析\")\n",
    "    print(\"根据输入球员的能力，分析n次模拟比赛的结果\")\n",
    "          \n",
    "          \n",
    "# 获取球员能力和模拟场次说\n",
    "          \n",
    "          \n",
    "def getInputs():\n",
    "    a = eval(input(\"请输入选手A的能力值（0-1):\"))\n",
    "    b = eval(input(\"请输入选手B的能力值(0-1):\"))\n",
    "    n = eval(input(\"模拟比赛的场次：\"))\n",
    "    return a,b,n\n",
    "             \n",
    "\n",
    "def printSummary(winsA, winsB, n):\n",
    "    print(\"竞技分析开始，总共模拟量{}场比赛\".format(n))\n",
    "    print(\"选手A获胜{}场比赛，占比{:0.1%}\".format(winsA, winsA/n))\n",
    "    print(\"选手B获胜{}场比赛，占比{:0.1%}\".format(winsB, winsB/n))\n",
    "        \n",
    "\n",
    "def gameOver(scoreA,scoreB):\n",
    "    return  scoreA==15 or scoreB ==15\n",
    "        \n",
    "             \n",
    "def simOneGames(probA,probB):\n",
    "    scoreA, scoreB = 0, 0\n",
    "    #　默认A开始发球\n",
    "    serving = \"A\"\n",
    "    while not gameOver(scoreA, scoreB):\n",
    "        if serving ==\"A\":\n",
    "             if random() < probA:\n",
    "                scoreA += 1\n",
    "             else:\n",
    "                 serving = \"B\"\n",
    "        else:\n",
    "             if random() < probB:\n",
    "                scoreB += 1\n",
    "             else:\n",
    "                 serving = \"A\"\n",
    "             \n",
    "    return scoreA, scoreB\n",
    "             \n",
    "def simNGames(probA,probB,n):\n",
    "\n",
    "    winsA, winsB = 0, 0\n",
    "    for i in range(n):\n",
    "        scoreA,scoreB = simOneGames(probA,probB)\n",
    "        if scoreA ==15 :\n",
    "            winsA += 1\n",
    "        else:\n",
    "            winsB += 1\n",
    "    return winsA, winsB\n",
    "\n",
    "def main():\n",
    "    printInfo()\n",
    "    probA, probB,n = getInputs()\n",
    "    winsA,winsB = simNGames(probA, probB, n)\n",
    "    printSummary(winsA, winsB,n)\n",
    " \n",
    "             \n",
    "main()"
   ]
  },
  {
   "cell_type": "markdown",
   "metadata": {},
   "source": [
    "## 程序设计思维\n",
    "\n",
    "- 计算机思维基于计算机强大的算力以及海量数据\n",
    "- 抽象计算过程，关注设计和构造，而非因果\n",
    "- 以计算机程序设实现的主要手段\n",
    "\n",
    "\n",
    "## 用户体验\n",
    "\n",
    "#### 进度展示\n",
    "#### 异常处理"
   ]
  },
  {
   "cell_type": "markdown",
   "metadata": {},
   "source": [
    "<a id ='9'></a>\n",
    "# [Week 9 Python计算生态概览](#0)"
   ]
  },
  {
   "cell_type": "markdown",
   "metadata": {},
   "source": [
    "## 9.1从数据处理到人工智能\n",
    "* 数据表示： 适合方式用程序表达数据\n",
    "* 数据清洗：数据归一化、数据转换、异常值处理\n",
    "* 数据统计：数据的概要理解，数量、分布、中位数等\n",
    "* 数据可视化：直观的展示数据内涵的方式\n",
    "* 数据挖掘：从数据分析获得知识，产生数据外的价值\n",
    "* 人工智能：数据、语言、图像、视觉等方面深度分析与决策\n",
    "\n",
    "### 1.Python库——数据分析\n",
    " #### Numpy:表达N维数组的最基础库\n",
    "* Python接口使用，c语言实现，计算速度快\n",
    "* Python 数据分析及科学计算的基础库，支撑Pandas等\n",
    "* 提供直接的矩阵运算、广播函数、线性代数等功能\n",
    "\n",
    "#### Pandas: Python数据分析高层次应用库\n",
    "* 数据结构和数据分析工具\n",
    "* 理解数据类型与索引的关系，操作索引即操作数据\n",
    "* Python最主要的数据分析库，基于Numpy开发\n",
    "* 高层次应用库\n",
    "   * Serier = 索引 + 一维数据\n",
    "   * DataFrame = 行列索引 + 二维数组\n",
    "* SciPy: 数学、科学和工程计算功能库\n",
    "    * 提供了一批数学算法及工程数据运算功能\n",
    "    * 类似Matlab， 可用于如傅立叶变换、信号处理等应用\n",
    "    * Python 最主要的科学计算功能库、基于Numpy开发\n",
    "\n",
    "###  2.Python库——数据可视化\n",
    "#### Matplotlib： 高质量的二维数据可视化功能库\n",
    "* 提供了超过100种数据可视化展示效果\n",
    "* 通过matplotlib.pyplot字库调用各种可视化效果\n",
    "* Python 最主要的数据可视化功能库，基于Numpy开发\n",
    "\n",
    "#### Seaborn：统计类数据可视化功能库\n",
    "* 提供了一批高层次的统计类数据可视化展示效果\n",
    "* 主要展示数据间分布、分类和线性关系等类容\n",
    "* 基于Matplotlib开发，支持Numpy和Pandas\n",
    "\n",
    "#### Mayavi:三维科学数据可视化功能库\n",
    "* 提供了一批简单易用的3D科学计算数据可视化展示效果\n",
    "* 支持Numpy、TVTK、Traits、Envisage等第三方库\n",
    "\n",
    "### 3.Python库——文本处理\n",
    "####  PyPDF2：用来处理pdf文件的工具集\n",
    "* 提供一批处理PDF文件的计算功能\n",
    "* 支持获取信息、分隔/整合文件、加密解密等\n",
    "* 完全Pythonu语言实现，不需要额外依赖，功能稳定\n",
    "\n",
    "#### NLTK：自然语言文本处理\n",
    "* 提供了一批简单易用的自然语言文本处理功能\n",
    "* 支持语言文本分类、标记、语法语句、语义分析等\n",
    "\n",
    "#### Python-docx:创建或更新word文件的第三方库\n",
    "* 提供创建和更新.doc .docx 等文件的计算功能\n",
    "* 增加并配置段落、图片、表格、文字等\n",
    "\n",
    "### 4.Python库——机器学习\n",
    "#### Scikit-learn : 机器学习学习工具集\n",
    "* 提供一批统一化的机器学习方法功能接口\n",
    "* 提供聚类、分类、回归、强化学习等计算功能\n",
    "* 机器学习最基本且最优秀的Python第三方库\n",
    "\n",
    "#### TensorFlow: AlphaGo背后的机器学习计算框架\n",
    "* Google公司推动的开源机器学习框架\n",
    "* 将数据流图作为基础，图节点代表运算，变代表张量\n",
    "* 应用机器学习方法的一种方式，支撑谷歌人工智能应用\n",
    "\n",
    "#### MXNet： 基于神经网络的深度学习计算框架\n",
    "* 提供可扩展的神经网络及深度学习计算功能\n",
    "* 可用于自动驾驶、机器翻译、语音识别等领域\n",
    "* Python 最重要的深度学习框架\n",
    "\n",
    "## 9.2. 霍兰德人格分析（实例）\n",
    "\n",
    "目标 + 沉浸 +熟练"
   ]
  },
  {
   "cell_type": "code",
   "execution_count": 4,
   "metadata": {
    "collapsed": true
   },
   "outputs": [
    {
     "name": "stderr",
     "output_type": "stream",
     "text": [
      "C:\\Users\\lee\\Anaconda3\\lib\\site-packages\\matplotlib\\cbook\\deprecation.py:106: MatplotlibDeprecationWarning: The frac parameter was deprecated in version 2.1. Use tick padding via Axes.tick_params instead.\n",
      "  warnings.warn(message, mplDeprecation, stacklevel=1)\n"
     ]
    },
    {
     "data": {
      "image/png": "[encoded data removed]",
      "text/plain": [
       "<matplotlib.figure.Figure at 0x1a8b64e4ba8>"
      ]
     },
     "metadata": {},
     "output_type": "display_data"
    }
   ],
   "source": [
    "#HollandRadarDraw\n",
    "import numpy as np\n",
    "import matplotlib.pyplot as plt\n",
    "import matplotlib\n",
    "# numpy组织多维数据\n",
    "matplotlib.rcParams['font.family']='SimHei'\n",
    "radar_labels = np.array(['研究型(I)','艺术型(A)','社会型(S)',\\\n",
    "                         '企业型(E)','常规型(C)','现实型(R)']) #雷达标签\n",
    "nAttr = 6\n",
    "data = np.array([[0.40, 0.32, 0.35, 0.30, 0.30, 0.88],\n",
    "                 [0.85, 0.35, 0.30, 0.40, 0.40, 0.30],\n",
    "                 [0.43, 0.89, 0.30, 0.28, 0.22, 0.30],\n",
    "                 [0.30, 0.25, 0.48, 0.85, 0.45, 0.40],\n",
    "                 [0.20, 0.38, 0.87, 0.45, 0.32, 0.28],\n",
    "                 [0.34, 0.31, 0.38, 0.40, 0.92, 0.28]]) #数据值\n",
    "data_labels = ('艺术家', '实验员', '工程师', '推销员', '社会工作者','记事员')\n",
    "# 绘制阶段\n",
    "angles = np.linspace(0, 2*np.pi, nAttr, endpoint=False)\n",
    "data = np.concatenate((data, [data[0]]))\n",
    "angles = np.concatenate((angles, [angles[0]]))\n",
    "fig = plt.figure(facecolor=\"white\")\n",
    "plt.subplot(111, polar=True)\n",
    "plt.plot(angles,data,'o-', linewidth=1, alpha=0.2)\n",
    "plt.fill(angles,data, alpha=0.25)\n",
    "plt.thetagrids(angles*180/np.pi, radar_labels,frac = 1.2)\n",
    "# 输出雷达图\n",
    "plt.figtext(0.52, 0.95, '霍兰德人格分析', ha='center', size=20)\n",
    "legend = plt.legend(data_labels, loc=(0.94, 0.80), labelspacing=0.1)\n",
    "plt.setp(legend.get_texts(), fontsize='large')\n",
    "plt.grid(True)\n",
    "plt.savefig('holland_radar.jpg')\n",
    "plt.show()"
   ]
  },
  {
   "cell_type": "markdown",
   "metadata": {},
   "source": [
    "## 9.3 从Web解析到网络空间\n",
    "\n",
    "### 1. Python库——网络爬虫\n",
    "\n",
    "#### Requests： 最友好的网络爬虫功能库\n",
    "* 提供了简单易用的类HTTP协议网络爬虫功能\n",
    "* 支持连接池、SSL 、Cookies、HTTP(S)代理等\n",
    "* python 最主要的页面级网络爬虫功能库\n",
    "\n",
    "#### Scrapy:优秀的网络爬虫框架\n",
    "* 提供了构建网络爬虫系统的框架功能，功能半成品\n",
    "* 支持批量和定时的网页爬取、提供数据处理流程等\n",
    "* Python 最主要且最专业的网络爬虫框架\n",
    "\n",
    "#### pyspider: 强大的Web页面爬取系统\n",
    "*　提供完整的网页爬取系统构建功能\n",
    "*  支持数据库后端、信息队列、优先级、分布式架构等\n",
    "* Python 重要的网络爬虫类第三方库\n",
    "\n",
    "### 2. Python库——Web信息提取\n",
    "\n",
    "#### Beautiful Soup： HTML和XML的解析库\n",
    "* 提供了解析HTML和XMl等web信息的功能\n",
    "* 又名beautifulsoup4或bs4，可以加载多种解析引擎\n",
    "* 常与网络爬虫库搭配使用，如Scrapy、requests等\n",
    "\n",
    "#### Re : 正则表达式解析和处理功能库\n",
    "* 提供了定义和解析正则表达式的一批通用功能\n",
    "* 可用于各种场景，包括定点的web信息提取 \n",
    "* Python最主要的标准库之一，无需安装\n",
    "\n",
    "#### pytho-Goose: 提取文章类型Web页面的功能库\n",
    "- 提供了对Web页面中文章信息/视频等元数据的提取功能\n",
    "- 针对特定类型Web页面，应用覆盖面较广\n",
    "- Python最主要的Web信息提取库\n",
    "\n",
    "### 3. Python库——Web网站开发\n",
    "\n",
    "#### Django：最流行的Web应用框架\n",
    "- 提供了构建Web系统的基本应用框架\n",
    "- MTV模式：模型(model)、模板(Template)、视图(Views)\n",
    "- Python最重要的Web应用框架，略微复杂的应用框架\n",
    "\n",
    "#### Pyramid: 规模适中的Web应用框架\n",
    "- 提供了简单方便构建Web系统的应用框架\n",
    "- 不大不小，规模适中，适合快速构建并适度扩展类应用\n",
    "- Python产品级Web应用框架，起步简单可扩展性好"
   ]
  },
  {
   "cell_type": "code",
   "execution_count": null,
   "metadata": {},
   "outputs": [],
   "source": [
    "# 10行左右Hello Word程序\n",
    "from wsgiref.simple_server import make_server\n",
    "from pyramid.config import Configurator\n",
    "from pyramid.response import Response\n",
    "def hello_world(request):\n",
    "    return Response('Hello World!')\n",
    "if __name__ == '__main__':\n",
    "    with Configurator() as config:\n",
    "        config.add_route('hello', '/')\n",
    "        config.add_view(hello_world, route_name='hello')\n",
    "        app = config.make_wsgi_app()\n",
    "server = make_server('0.0.0.0', 6543, app)\n",
    "server.serve_forever()"
   ]
  },
  {
   "cell_type": "markdown",
   "metadata": {},
   "source": [
    "#### Flask: Web应用开发微框架\n",
    "- 提供了最简单构建Web系统的应用框架\n",
    "- 特点是：简单、规模小、快速\n",
    "- Django > Pyramid > Flask\n"
   ]
  },
  {
   "cell_type": "code",
   "execution_count": 6,
   "metadata": {},
   "outputs": [],
   "source": [
    "from flask import Flask\n",
    "app = Flask(__name__)\n",
    "@app.route('/')\n",
    "def hello_world():\n",
    "    return 'Hello, World!'"
   ]
  },
  {
   "cell_type": "markdown",
   "metadata": {},
   "source": [
    "### 4. Python库——网络应用开发\n",
    "#### WeRoBot: 微信公众号开发框架\n",
    "- 提供了解析微信服务器消息及反馈消息的功能\n",
    "- 建立微信机器人的重要技术手段"
   ]
  },
  {
   "cell_type": "code",
   "execution_count": 8,
   "metadata": {
    "collapsed": true
   },
   "outputs": [
    {
     "ename": "ModuleNotFoundError",
     "evalue": "No module named 'werobot'",
     "output_type": "error",
     "traceback": [
      "\u001b[1;31m---------------------------------------------------------------------------\u001b[0m",
      "\u001b[1;31mModuleNotFoundError\u001b[0m                       Traceback (most recent call last)",
      "\u001b[1;32m<ipython-input-8-b99e803356ea>\u001b[0m in \u001b[0;36m<module>\u001b[1;34m()\u001b[0m\n\u001b[0;32m      1\u001b[0m \u001b[1;31m# 对微信每个消息反馈一个Hello World\u001b[0m\u001b[1;33m\u001b[0m\u001b[1;33m\u001b[0m\u001b[0m\n\u001b[1;32m----> 2\u001b[1;33m \u001b[1;32mimport\u001b[0m \u001b[0mwerobot\u001b[0m\u001b[1;33m\u001b[0m\u001b[0m\n\u001b[0m\u001b[0;32m      3\u001b[0m \u001b[0mrobot\u001b[0m \u001b[1;33m=\u001b[0m \u001b[0mwerobot\u001b[0m\u001b[1;33m.\u001b[0m\u001b[0mWeRoBot\u001b[0m\u001b[1;33m(\u001b[0m\u001b[0mtoken\u001b[0m\u001b[1;33m=\u001b[0m\u001b[1;34m'tokenhere'\u001b[0m\u001b[1;33m)\u001b[0m\u001b[1;33m\u001b[0m\u001b[0m\n\u001b[0;32m      4\u001b[0m \u001b[1;33m@\u001b[0m\u001b[0mrobot\u001b[0m\u001b[1;33m.\u001b[0m\u001b[0mhandler\u001b[0m\u001b[1;33m\u001b[0m\u001b[0m\n\u001b[0;32m      5\u001b[0m \u001b[1;32mdef\u001b[0m \u001b[0mhello\u001b[0m\u001b[1;33m(\u001b[0m\u001b[0mmessage\u001b[0m\u001b[1;33m)\u001b[0m\u001b[1;33m:\u001b[0m\u001b[1;33m\u001b[0m\u001b[0m\n",
      "\u001b[1;31mModuleNotFoundError\u001b[0m: No module named 'werobot'"
     ]
    }
   ],
   "source": [
    "# 对微信每个消息反馈一个Hello World\n",
    "import werobot\n",
    "robot = werobot.WeRoBot(token='tokenhere')\n",
    "@robot.handler\n",
    "def hello(message):\n",
    "    return 'Hello World!'"
   ]
  },
  {
   "cell_type": "markdown",
   "metadata": {},
   "source": [
    "####  aip: 百度AI开放平台接口\n",
    "https://github.com/Baidu-AIP/python-sdk|\n",
    "- 提供了访问百度AI服务的Python功能接口\n",
    "- 语音、人脸、OCR、NLP、知识图谱、图像搜索等领域\n",
    "- Python百度AI应用的最主要方式\n",
    "\n",
    "#### MyQR: 二维码生成第三方库\n",
    "- 提供了生成二维码的系列功能\n",
    "- 基本二维码、艺术二维码和动态二维码"
   ]
  },
  {
   "cell_type": "markdown",
   "metadata": {},
   "source": [
    "## 9.4 从人机交互到艺术设计\n",
    "\n",
    "### 1. Python库——图形用户界面\n",
    "\n",
    "#### PyQt5: Qt开发框架的Python接口\n",
    "- 提供了创建Qt5程序的Python API接口\n",
    "- Qt是非常成熟的跨平台桌面应用开发系统，完备GUI\n",
    "- 推荐的Python GUI开发第三方库\n",
    "\n",
    "#### wxPython: 跨平台GUI开发框架\n",
    "- 提供了专用于Python的跨平台GUI开发框架\n",
    "- 理解数据类型与索引的关系，操作索引即操作数据\n",
    "- Python最主要的数据分析功能库，基于Numpy开发"
   ]
  },
  {
   "cell_type": "code",
   "execution_count": 9,
   "metadata": {
    "collapsed": true
   },
   "outputs": [
    {
     "ename": "ModuleNotFoundError",
     "evalue": "No module named 'wx'",
     "output_type": "error",
     "traceback": [
      "\u001b[1;31m---------------------------------------------------------------------------\u001b[0m",
      "\u001b[1;31mModuleNotFoundError\u001b[0m                       Traceback (most recent call last)",
      "\u001b[1;32m<ipython-input-9-38d57d91391e>\u001b[0m in \u001b[0;36m<module>\u001b[1;34m()\u001b[0m\n\u001b[1;32m----> 1\u001b[1;33m \u001b[1;32mimport\u001b[0m \u001b[0mwx\u001b[0m\u001b[1;33m\u001b[0m\u001b[0m\n\u001b[0m\u001b[0;32m      2\u001b[0m \u001b[0mapp\u001b[0m \u001b[1;33m=\u001b[0m \u001b[0mwx\u001b[0m\u001b[1;33m.\u001b[0m\u001b[0mApp\u001b[0m\u001b[1;33m(\u001b[0m\u001b[1;32mFalse\u001b[0m\u001b[1;33m)\u001b[0m\u001b[1;33m\u001b[0m\u001b[0m\n\u001b[0;32m      3\u001b[0m \u001b[0mframe\u001b[0m \u001b[1;33m=\u001b[0m \u001b[0mwx\u001b[0m\u001b[1;33m.\u001b[0m\u001b[0mFrame\u001b[0m\u001b[1;33m(\u001b[0m\u001b[1;32mNone\u001b[0m\u001b[1;33m,\u001b[0m \u001b[0mwx\u001b[0m\u001b[1;33m.\u001b[0m\u001b[0mID_ANY\u001b[0m\u001b[1;33m,\u001b[0m \u001b[1;34m\"Hello World\"\u001b[0m\u001b[1;33m)\u001b[0m\u001b[1;33m\u001b[0m\u001b[0m\n\u001b[0;32m      4\u001b[0m \u001b[0mframe\u001b[0m\u001b[1;33m.\u001b[0m\u001b[0mShow\u001b[0m\u001b[1;33m(\u001b[0m\u001b[1;32mTrue\u001b[0m\u001b[1;33m)\u001b[0m\u001b[1;33m\u001b[0m\u001b[0m\n\u001b[0;32m      5\u001b[0m \u001b[0mapp\u001b[0m\u001b[1;33m.\u001b[0m\u001b[0mMainLoop\u001b[0m\u001b[1;33m(\u001b[0m\u001b[1;33m)\u001b[0m\u001b[1;33m\u001b[0m\u001b[0m\n",
      "\u001b[1;31mModuleNotFoundError\u001b[0m: No module named 'wx'"
     ]
    }
   ],
   "source": [
    "import wx\n",
    "app = wx.App(False)\n",
    "frame = wx.Frame(None, wx.ID_ANY, \"Hello World\")\n",
    "frame.Show(True)\n",
    "app.MainLoop()"
   ]
  },
  {
   "cell_type": "markdown",
   "metadata": {},
   "source": [
    "#### PyGObject: 使用GTK+开发GUI的功能库\n",
    "- 提供了整合GTK+、WebKitGTK+等库的功能\n",
    "- GTK+：跨平台的一种用户图形界面GUI框架\n",
    "- 实例：Anaconda采用该库构建GUI"
   ]
  },
  {
   "cell_type": "code",
   "execution_count": null,
   "metadata": {},
   "outputs": [],
   "source": [
    "import gi\n",
    "gi.require_version(\"Gtk\", \"3.0\")\n",
    "from gi.repository import Gtk\n",
    "window = Gtk.Window(title=\"Hello World\")\n",
    "window.show()\n",
    "window.connect(\"destroy\", Gtk.main_quit)\n",
    "Gtk.main()\n"
   ]
  },
  {
   "cell_type": "markdown",
   "metadata": {},
   "source": [
    "### 2. Python库——游戏开发\n",
    "\n",
    "####  PyGame: 简单的游戏开发功能库\n",
    "- 提供了基于SDL的简单游戏开发功能及实现引擎\n",
    "- 理解游戏对外部输入的响应机制及角色构建和交互机制\n",
    "- Python游戏入门最主要的第三方库\n",
    "\n",
    "\n",
    "#### Panda3D: 开源、跨平台的3D渲染和游戏开发库\n",
    "http://www.panda3d.org/\n",
    "- 一个3D游戏引擎，提供Python和C++两种接口\n",
    "- 支持很多先进特性：法线贴图、光泽贴图、卡通渲染等\n",
    "- 由迪士尼和卡尼基梅隆大学共同开发\n",
    "\n",
    "\n",
    "#### cocos2d: 构建2D游戏和图形界面交互式应用的框架\n",
    "- 提供了基于OpenGL的游戏开发图形渲染功能\n",
    "- 支持**GPU加速**，采用树形结构分层管理游戏对象类型\n",
    "- 适用于2D专业级游戏开发\n"
   ]
  },
  {
   "cell_type": "markdown",
   "metadata": {},
   "source": [
    "### 3. Python库——虚拟现实\n",
    "\n",
    "#### VR Zero: 在树莓派上开发VR应用的Python库\n",
    "- 提供大量与VR开发相关的功能\n",
    "- 针对树莓派的VR开发库，支持设备小型化，配置简单化\n",
    "- 非常适合初学者实践VR开发及应用\n",
    "\n",
    "#### pyovr: Oculus Rift的Python开发接口\n",
    "- 针对Oculus VR设备的Python开发库\n",
    "- 基于成熟的VR设备，提供全套文档，工业级应用设备\n",
    "- Python+虚拟现实领域探索的一种思路\n",
    "\n",
    "#### Vizard: 基于Python的通用VR开发引擎\n",
    "- 专业的企业级虚拟现实开发引擎\n",
    "- 提供详细的官方文档\n",
    "- 支持多种主流的VR硬件设备，具有一定通用性\n",
    "\n",
    "### 4. Python库——图形艺术\n",
    "\n",
    "#### Quads: 迭代的艺术\n",
    "- 对图片进行四分迭代，形成像素风\n",
    "- 可以生成动图或静图图像\n",
    "- 简单易用，具有很高展示度\n",
    "\n",
    "#### ascii_art: ASCII艺术库\n",
    "- 将普通图片转为ASCII艺术风格\n",
    "- 输出可以是纯文本或彩色文本\n",
    "- 可采用图片格式输出\n",
    "\n",
    "#### turtle: 海龟绘图体系\n"
   ]
  },
  {
   "cell_type": "markdown",
   "metadata": {},
   "source": []
  },
  {
   "cell_type": "markdown",
   "metadata": {},
   "source": [
    "## 9.2.玫瑰花绘制（实例）\n"
   ]
  },
  {
   "cell_type": "code",
   "execution_count": null,
   "metadata": {},
   "outputs": [],
   "source": []
  },
  {
   "cell_type": "code",
   "execution_count": 15,
   "metadata": {},
   "outputs": [],
   "source": [
    "#RoseDraw.py\n",
    "import turtle as t\n",
    "# 定义一个曲线绘制函数\n",
    "def DegreeCurve(n, r, d=1):\n",
    "    for i in range(n):\n",
    "        t.left(d)\n",
    "        t.circle(r, abs(d))\n",
    "# 初始位置设定\n",
    "s = 0.2 # size\n",
    "t.setup(450*5*s, 750*5*s)\n",
    "t.pencolor(\"black\")\n",
    "t.fillcolor(\"red\")\n",
    "t.speed(100)\n",
    "t.penup()\n",
    "t.goto(0, 900*s)\n",
    "t.pendown()\n",
    "# 绘制花朵形状\n",
    "t.begin_fill()\n",
    "t.circle(200*s,30)\n",
    "DegreeCurve(60, 50*s)\n",
    "t.circle(200*s,30)\n",
    "DegreeCurve(4, 100*s)\n",
    "t.circle(200*s,50)\n",
    "DegreeCurve(50, 50*s)\n",
    "t.circle(350*s,65)\n",
    "DegreeCurve(40, 70*s)\n",
    "t.circle(150*s,50)\n",
    "DegreeCurve(20, 50*s, -1)\n",
    "t.circle(400*s,60)\n",
    "DegreeCurve(18, 50*s)\n",
    "t.fd(250*s)\n",
    "t.right(150)\n",
    "t.circle(-500*s,12)\n",
    "t.left(140)\n",
    "t.circle(550*s,110)\n",
    "t.left(27)\n",
    "t.circle(650*s,100)\n",
    "t.left(130)\n",
    "t.circle(-300*s,20)\n",
    "t.right(123)\n",
    "t.circle(220*s,57)\n",
    "t.end_fill()\n",
    "# 绘制花枝形状\n",
    "t.left(120)\n",
    "t.fd(280*s)\n",
    "t.left(115)\n",
    "t.circle(300*s,33)\n",
    "t.left(180)\n",
    "t.circle(-300*s,33)\n",
    "DegreeCurve(70, 225*s, -1)\n",
    "t.circle(350*s,104)\n",
    "t.left(90)\n",
    "t.circle(200*s,105)\n",
    "t.circle(-500*s,63)\n",
    "t.penup()\n",
    "t.goto(170*s,-30*s)\n",
    "t.pendown()\n",
    "t.left(160)\n",
    "DegreeCurve(20, 2500*s)\n",
    "DegreeCurve(220, 250*s, -1)\n",
    "# 绘制一个绿色叶子\n",
    "t.fillcolor('green')\n",
    "t.penup()\n",
    "t.goto(670*s,-180*s)\n",
    "t.pendown()\n",
    "t.right(140)\n",
    "t.begin_fill()\n",
    "t.circle(300*s,120)\n",
    "t.left(60)\n",
    "t.circle(300*s,120)\n",
    "t.end_fill()\n",
    "t.penup()\n",
    "t.goto(180*s,-550*s)\n",
    "t.pendown()\n",
    "t.right(85)\n",
    "t.circle(600*s,40)\n",
    "# 绘制另一个绿色叶子\n",
    "t.penup()\n",
    "t.goto(-150*s,-1000*s)\n",
    "t.pendown()\n",
    "t.begin_fill()\n",
    "t.rt(120)\n",
    "t.circle(300*s,115)\n",
    "t.left(75)\n",
    "t.circle(300*s,100)\n",
    "t.end_fill()\n",
    "t.penup()\n",
    "t.goto(430*s,-1070*s)\n",
    "t.pendown()\n",
    "t.right(30)\n",
    "t.circle(-600*s,35)\n",
    "t.done()"
   ]
  },
  {
   "cell_type": "code",
   "execution_count": null,
   "metadata": {},
   "outputs": [],
   "source": []
  },
  {
   "cell_type": "code",
   "execution_count": null,
   "metadata": {},
   "outputs": [],
   "source": []
  }
 ],
 "metadata": {
  "kernelspec": {
   "display_name": "Python 3",
   "language": "python",
   "name": "python3"
  },
  "language_info": {
   "codemirror_mode": {
    "name": "ipython",
    "version": 3
   },
   "file_extension": ".py",
   "mimetype": "text/x-python",
   "name": "python",
   "nbconvert_exporter": "python",
   "pygments_lexer": "ipython3",
   "version": "3.6.4"
  }
 },
 "nbformat": 4,
 "nbformat_minor": 2
}
