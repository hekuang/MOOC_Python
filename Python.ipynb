{
 "cells": [
  {
   "cell_type": "code",
   "execution_count": 2,
   "metadata": {},
   "outputs": [
    {
     "data": {
      "application/javascript": [
       "IPython.notebook.set_autosave_interval(30000)"
      ]
     },
     "metadata": {},
     "output_type": "display_data"
    },
    {
     "name": "stdout",
     "output_type": "stream",
     "text": [
      "Autosaving every 30 seconds\n"
     ]
    }
   ],
   "source": [
    "%autosave 30"
   ]
  },
  {
   "cell_type": "markdown",
   "metadata": {},
   "source": [
    "<a id='0'></a>\n",
    "### 　　目　录\n",
    "* [课程1.神经网络](#1)\n",
    "\n",
    "\n",
    "\n",
    "* [课程2： 深度神经网络](#2)　　\n",
    "　\n",
    " \n",
    " \n",
    "* [课程 3：卷积神经网络](#3)　　\n",
    "\n",
    "\n",
    " \n",
    "* [课程 4：癌症检测深度学习（Sebastian Thrun）](#4)\n",
    "\n",
    "\n",
    "\n",
    "\n",
    "* [Week 9 Python计算生态概览](#9)"
   ]
  },
  {
   "cell_type": "markdown",
   "metadata": {},
   "source": [
    "<a id ='9'></a>\n",
    "# [Week 9 Python计算生态概览](#0)"
   ]
  },
  {
   "cell_type": "markdown",
   "metadata": {},
   "source": [
    "## 9.1从数据处理到人工智能\n",
    "* 数据表示： 适合方式用程序表达数据\n",
    "* 数据清洗：数据归一化、数据转换、异常值处理\n",
    "* 数据统计：数据的概要理解，数量、分布、中位数等\n",
    "* 数据可视化：直观的展示数据内涵的方式\n",
    "* 数据挖掘：从数据分析获得知识，产生数据外的价值\n",
    "* 人工智能：数据、语言、图像、视觉等方面深度分析与决策\n",
    "\n",
    "### Python库之数据分析\n",
    " #### 1.Numpy:表达N维数组的最基础库\n",
    "* Python接口使用，c语言实现，计算速度快\n",
    "* Python 数据分析及科学计算的基础库，支撑Pandas等\n",
    "* 提供直接的矩阵运算、广播函数、线性代数等功能\n",
    "\n",
    "#### 2.Pandas: Python数据分析高层次应用库\n",
    "* 数据结构和数据分析工具\n",
    "* 理解数据类型与索引的关系，操作索引即操作数据\n",
    "* Python最主要的数据分析库，基于Numpy开发\n",
    "* 高层次应用库\n",
    "   * Serier = 索引 + 一维数据\n",
    "   * DataFrame = 行列索引 + 二维数组\n",
    "* SciPy: 数学、科学和工程计算功能库\n",
    "    * 提供了一批数学算法及工程数据运算功能\n",
    "    * 类似Matlab， 可用于如傅立叶变换、信号处理等应用\n",
    "    * Python 最主要的科学计算功能库、基于Numpy开发\n",
    "\n",
    "### Python库之数据可视化\n",
    "#### 1.Matplotlib： 高质量的二维数据可视化功能库\n",
    "* 提供了超过100种数据可视化展示效果\n",
    "* 通过matplotlib.pyplot字库调用各种可视化效果\n",
    "* Python 最主要的数据可视化功能库，基于Numpy开发\n",
    "\n",
    "#### 2.Seaborn：统计类数据可视化功能库\n",
    "* 提供了一批高层次的统计类数据可视化展示效果\n",
    "* 主要展示数据间分布、分类和线性关系等类容\n",
    "* 基于Matplotlib开发，支持Numpy和Pandas\n",
    "\n",
    "#### 3.Mayavi:三维科学数据可视化功能库\n",
    "* 提供了一批简单易用的3D科学计算数据可视化展示效果\n",
    "* 支持Numpy、TVTK、Traits、Envisage等第三方库\n"
   ]
  },
  {
   "cell_type": "code",
   "execution_count": null,
   "metadata": {},
   "outputs": [],
   "source": []
  }
 ],
 "metadata": {
  "kernelspec": {
   "display_name": "Python 3",
   "language": "python",
   "name": "python3"
  },
  "language_info": {
   "codemirror_mode": {
    "name": "ipython",
    "version": 3
   },
   "file_extension": ".py",
   "mimetype": "text/x-python",
   "name": "python",
   "nbconvert_exporter": "python",
   "pygments_lexer": "ipython3",
   "version": "3.6.4"
  }
 },
 "nbformat": 4,
 "nbformat_minor": 2
}
