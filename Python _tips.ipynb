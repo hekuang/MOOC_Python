{
 "cells": [
  {
   "cell_type": "markdown",
   "metadata": {},
   "source": [
    "##  1.`*args`  \n",
    "代笔不定长参数，任何字符都可，\\*是必须的  \n",
    "是用来发送一个非键值对的可变数量的参数列表给一个函数."
   ]
  },
  {
   "cell_type": "code",
   "execution_count": 36,
   "metadata": {},
   "outputs": [
    {
     "name": "stdout",
     "output_type": "stream",
     "text": [
      "arg\n",
      "another arg through *arfs is  python\n",
      "another arg through *arfs is  java\n",
      "another arg through *arfs is  scala\n"
     ]
    }
   ],
   "source": [
    "def test_args(args_1,*args):\n",
    "    print(args_1)\n",
    "    for arg in args:\n",
    "        print(\"another arg through *arfs is \",arg)\n",
    "        \n",
    "test_args('arg','python','java','scala')"
   ]
  },
  {
   "cell_type": "markdown",
   "metadata": {},
   "source": [
    "## 2.`**kwargs`\n",
    "允许将不定长的键值对，作为参数传递给一个函数。处理带名字的参数"
   ]
  },
  {
   "cell_type": "code",
   "execution_count": 35,
   "metadata": {},
   "outputs": [
    {
     "name": "stdout",
     "output_type": "stream",
     "text": [
      "{'name': 'python'}\n"
     ]
    }
   ],
   "source": [
    "def test_args(**args):\n",
    "    print(args)\n",
    "        \n",
    "test_args(name ='python')\n",
    "\n"
   ]
  },
  {
   "cell_type": "code",
   "execution_count": 33,
   "metadata": {},
   "outputs": [
    {
     "name": "stdout",
     "output_type": "stream",
     "text": [
      "arg1: 1     arg2: two    arg3: 三\n",
      "arg1: 1     arg2: two    arg3: 三\n",
      "arg1: 1     arg2: two    arg3: 三\n"
     ]
    }
   ],
   "source": [
    "def test_kwar(arg1,arg2,arg3):\n",
    "    print('arg1:',arg1,'    ''arg2:',arg2,'   ' 'arg3:',arg3)\n",
    "    \n",
    "args = (1,'two','三')\n",
    "# 参数列表\n",
    "test_kwar(*args)\n",
    "test_kwar(1,'two','三')\n",
    "# 键值对\n",
    "kwargs = {'arg3':'三','arg2':'two','arg1':'1'}\n",
    "test_kwar(**kwargs)"
   ]
  },
  {
   "cell_type": "code",
   "execution_count": null,
   "metadata": {},
   "outputs": [],
   "source": []
  }
 ],
 "metadata": {
  "kernelspec": {
   "display_name": "Python 3",
   "language": "python",
   "name": "python3"
  },
  "language_info": {
   "codemirror_mode": {
    "name": "ipython",
    "version": 3
   },
   "file_extension": ".py",
   "mimetype": "text/x-python",
   "name": "python",
   "nbconvert_exporter": "python",
   "pygments_lexer": "ipython3",
   "version": "3.6.4"
  }
 },
 "nbformat": 4,
 "nbformat_minor": 2
}
